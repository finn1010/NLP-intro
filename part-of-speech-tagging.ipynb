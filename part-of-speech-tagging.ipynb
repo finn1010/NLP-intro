{
 "cells": [
  {
   "cell_type": "markdown",
   "metadata": {},
   "source": [
    "## Parts of speech tagging"
   ]
  },
  {
   "cell_type": "code",
   "execution_count": 2,
   "metadata": {},
   "outputs": [],
   "source": [
    "paragraph = \"\"\"\n",
    "Receive interdisciplinary training in 'big data' analysis in relation to biomolecular studies on this Master's course. On this stream of the MRes in Biomedical Research, you'll receive core training in multivariate statistics, chemometrics and machine learning methods. The course will build your research experience in the development and application of these methods to real-world biomedical studies. You'll also learn to handle large-scale data from molecular phenotyping techniques such as metabolic profiling and related genomics approaches. Two research projects are major components of this course. These will help you develop communication, presentation and grant-writing skills, and become familiar with evaluating research reports.\n",
    "\"\"\""
   ]
  },
  {
   "cell_type": "code",
   "execution_count": 7,
   "metadata": {},
   "outputs": [
    {
     "name": "stderr",
     "output_type": "stream",
     "text": [
      "[nltk_data] Downloading package averaged_perceptron_tagger to\n",
      "[nltk_data]     /Users/finnkane/nltk_data...\n",
      "[nltk_data]   Unzipping taggers/averaged_perceptron_tagger.zip.\n"
     ]
    },
    {
     "data": {
      "text/plain": [
       "True"
      ]
     },
     "execution_count": 7,
     "metadata": {},
     "output_type": "execute_result"
    }
   ],
   "source": [
    "import nltk\n",
    "sentences = nltk.sent_tokenize(paragraph)\n",
    "nltk.download('averaged_perceptron_tagger')"
   ]
  },
  {
   "cell_type": "code",
   "execution_count": 8,
   "metadata": {},
   "outputs": [
    {
     "name": "stdout",
     "output_type": "stream",
     "text": [
      "[('Receive', 'JJ'), ('interdisciplinary', 'JJ'), ('training', 'NN'), (\"'big\", 'NNP'), ('data', 'NN'), (\"'\", \"''\"), ('analysis', 'NN'), ('relation', 'NN'), ('biomolecular', 'JJ'), ('studies', 'NNS'), ('Master', 'NNP'), (\"'s\", 'POS'), ('course', 'NN'), ('.', '.')]\n",
      "[('On', 'IN'), ('stream', 'NN'), ('MRes', 'NNP'), ('Biomedical', 'NNP'), ('Research', 'NNP'), (',', ','), (\"'ll\", 'MD'), ('receive', 'VB'), ('core', 'NN'), ('training', 'NN'), ('multivariate', 'NN'), ('statistics', 'NNS'), (',', ','), ('chemometrics', 'NNS'), ('machine', 'NN'), ('learning', 'VBG'), ('methods', 'NNS'), ('.', '.')]\n",
      "[('The', 'DT'), ('course', 'NN'), ('build', 'JJ'), ('research', 'NN'), ('experience', 'NN'), ('development', 'NN'), ('application', 'NN'), ('methods', 'NNS'), ('real-world', 'JJ'), ('biomedical', 'JJ'), ('studies', 'NNS'), ('.', '.')]\n",
      "[('You', 'PRP'), (\"'ll\", 'MD'), ('also', 'RB'), ('learn', 'VB'), ('handle', 'JJ'), ('large-scale', 'JJ'), ('data', 'NNS'), ('molecular', 'JJ'), ('phenotyping', 'VBG'), ('techniques', 'NNS'), ('metabolic', 'JJ'), ('profiling', 'VBG'), ('related', 'JJ'), ('genomics', 'NNS'), ('approaches', 'NNS'), ('.', '.')]\n",
      "[('Two', 'CD'), ('research', 'NN'), ('projects', 'NNS'), ('major', 'JJ'), ('components', 'NNS'), ('course', 'NN'), ('.', '.')]\n",
      "[('These', 'DT'), ('help', 'NN'), ('develop', 'VB'), ('communication', 'NN'), (',', ','), ('presentation', 'NN'), ('grant-writing', 'NN'), ('skills', 'NNS'), (',', ','), ('become', 'VB'), ('familiar', 'JJ'), ('evaluating', 'VBG'), ('research', 'NN'), ('reports', 'NNS'), ('.', '.')]\n"
     ]
    }
   ],
   "source": [
    "# Find out the Pos Tag\n",
    "from nltk.corpus import stopwords\n",
    "\n",
    "for i in range(len(sentences)):\n",
    "    words = nltk.word_tokenize(sentences[i])\n",
    "    words = [word for word in words if word not in stopwords.words('english')]\n",
    "    pos_tag = nltk.pos_tag(words)\n",
    "    print(pos_tag)"
   ]
  },
  {
   "cell_type": "code",
   "execution_count": 16,
   "metadata": {},
   "outputs": [
    {
     "name": "stdout",
     "output_type": "stream",
     "text": [
      "[('I', 'PRP'), ('am', 'VBP'), ('upside', 'RB'), ('down', 'RB'), ('in', 'IN'), ('space', 'NN')]\n"
     ]
    }
   ],
   "source": [
    "print(nltk.pos_tag(\"I am upside down in space\".split()))"
   ]
  },
  {
   "cell_type": "code",
   "execution_count": null,
   "metadata": {},
   "outputs": [],
   "source": []
  }
 ],
 "metadata": {
  "kernelspec": {
   "display_name": "Python 3",
   "language": "python",
   "name": "python3"
  },
  "language_info": {
   "codemirror_mode": {
    "name": "ipython",
    "version": 3
   },
   "file_extension": ".py",
   "mimetype": "text/x-python",
   "name": "python",
   "nbconvert_exporter": "python",
   "pygments_lexer": "ipython3",
   "version": "3.11.2"
  }
 },
 "nbformat": 4,
 "nbformat_minor": 2
}
